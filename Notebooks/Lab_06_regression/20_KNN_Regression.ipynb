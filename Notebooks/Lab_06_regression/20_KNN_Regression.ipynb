{
 "cells": [
  {
   "cell_type": "markdown",
   "metadata": {},
   "source": [
    "# KNN Regression\n"
   ]
  },
  {
   "cell_type": "code",
   "execution_count": 1,
   "metadata": {
    "scrolled": false
   },
   "outputs": [
    {
     "name": "stderr",
     "output_type": "stream",
     "text": [
      "/home/andrea/anaconda3/lib/python3.9/site-packages/sklearn/utils/deprecation.py:87: FutureWarning: Function load_boston is deprecated; `load_boston` is deprecated in 1.0 and will be removed in 1.2.\n",
      "\n",
      "    The Boston housing prices dataset has an ethical problem. You can refer to\n",
      "    the documentation of this function for further details.\n",
      "\n",
      "    The scikit-learn maintainers therefore strongly discourage the use of this\n",
      "    dataset unless the purpose of the code is to study and educate about\n",
      "    ethical issues in data science and machine learning.\n",
      "\n",
      "    In this special case, you can fetch the dataset from the original\n",
      "    source::\n",
      "\n",
      "        import pandas as pd\n",
      "        import numpy as np\n",
      "\n",
      "\n",
      "        data_url = \"http://lib.stat.cmu.edu/datasets/boston\"\n",
      "        raw_df = pd.read_csv(data_url, sep=\"\\s+\", skiprows=22, header=None)\n",
      "        data = np.hstack([raw_df.values[::2, :], raw_df.values[1::2, :2]])\n",
      "        target = raw_df.values[1::2, 2]\n",
      "\n",
      "    Alternative datasets include the California housing dataset (i.e.\n",
      "    :func:`~sklearn.datasets.fetch_california_housing`) and the Ames housing\n",
      "    dataset. You can load the datasets as follows::\n",
      "\n",
      "        from sklearn.datasets import fetch_california_housing\n",
      "        housing = fetch_california_housing()\n",
      "\n",
      "    for the California housing dataset and::\n",
      "\n",
      "        from sklearn.datasets import fetch_openml\n",
      "        housing = fetch_openml(name=\"house_prices\", as_frame=True)\n",
      "\n",
      "    for the Ames housing dataset.\n",
      "    \n",
      "  warnings.warn(msg, category=FutureWarning)\n"
     ]
    }
   ],
   "source": [
    "import numpy as np\n",
    "import pandas as pd\n",
    "import numpy as np\n",
    "\n",
    "#Boston Housing Dataset: Load the boston dataset.\n",
    "from sklearn.datasets import load_boston\n",
    "boston = load_boston()\n",
    "\n",
    "boston.data = np.delete(boston.data, obj=11, axis=1)\n",
    "boston.feature_names = np.delete(boston.feature_names, obj=11, axis=0)\n",
    "\n",
    "#Creating feature and target arrays\n",
    "X, y = boston.data, boston.target\n",
    "columns = boston.feature_names"
   ]
  },
  {
   "cell_type": "code",
   "execution_count": 2,
   "metadata": {},
   "outputs": [],
   "source": [
    "X=X[y<50]\n",
    "y=y[y<50]\n",
    "\n",
    "from sklearn.model_selection import train_test_split\n",
    "\n",
    "X_train, X_test, y_train, y_test = train_test_split(X,y,\n",
    "                                                    test_size=0.3,\n",
    "                                                    random_state=123)\n",
    "\n",
    "from sklearn.preprocessing import StandardScaler  \n",
    "scaler = StandardScaler()  \n",
    "scaler.fit(X_train)  \n",
    "X_train = scaler.transform(X_train)  \n",
    "X_test = scaler.transform(X_test) "
   ]
  },
  {
   "cell_type": "code",
   "execution_count": 3,
   "metadata": {},
   "outputs": [
    {
     "data": {
      "text/plain": [
       "(343, 12)"
      ]
     },
     "execution_count": 3,
     "metadata": {},
     "output_type": "execute_result"
    }
   ],
   "source": [
    "X_train.shape"
   ]
  },
  {
   "cell_type": "code",
   "execution_count": 4,
   "metadata": {},
   "outputs": [],
   "source": [
    "#print(boston[\"DESCR\"])"
   ]
  },
  {
   "cell_type": "code",
   "execution_count": 5,
   "metadata": {
    "scrolled": false
   },
   "outputs": [],
   "source": [
    "#DEFINE YOUR REGRESSOR and THE PARAMETERS GRID\n",
    "from sklearn.neighbors import KNeighborsRegressor\n",
    "from sklearn import metrics\n",
    "\n",
    "regressor = KNeighborsRegressor()\n",
    "\n",
    "# n_neighbors: Number of neighbors \n",
    "# weight: ‘uniform’ : uniform weights. ‘distance’ : weight points by the inverse of their distance.\n",
    "# p Power parameter for the Minkowski metric.\n",
    "# n_job:  number of parallel jobs to run (-1)\n",
    "\n",
    "parameters = {'n_neighbors': np.arange(2, 20),\n",
    "              'p': [1,2,3]}\n",
    "\n",
    "#DEFINE YOUR GRIDSEARCH \n",
    "from sklearn.model_selection import GridSearchCV\n",
    "gs = GridSearchCV(regressor, parameters, cv=3, verbose = 0, scoring ='neg_mean_absolute_error')\n",
    "#,https://scikit-learn.org/stable/modules/model_evaluation.html \n",
    "#with no params it reduces to a CV\n",
    "#'neg_mean_absolute_error',\n",
    "#'neg_mean_squared_error'\n",
    "# 'r2'\n",
    "\n",
    "gs = gs.fit(X_train,y_train)\n",
    "\n"
   ]
  },
  {
   "cell_type": "code",
   "execution_count": 6,
   "metadata": {},
   "outputs": [
    {
     "name": "stdout",
     "output_type": "stream",
     "text": [
      "***GRIDSEARCH RESULTS***\n",
      "Best score: -2.627420 using {'n_neighbors': 3, 'p': 2}\n",
      "-2.914227 (0.070039) with: {'n_neighbors': 2, 'p': 1}\n",
      "-2.714071 (0.082360) with: {'n_neighbors': 2, 'p': 2}\n",
      "-2.751341 (0.105433) with: {'n_neighbors': 2, 'p': 3}\n",
      "-2.801105 (0.091079) with: {'n_neighbors': 3, 'p': 1}\n",
      "-2.627420 (0.111178) with: {'n_neighbors': 3, 'p': 2}\n",
      "-2.640940 (0.042764) with: {'n_neighbors': 3, 'p': 3}\n",
      "-2.759645 (0.115299) with: {'n_neighbors': 4, 'p': 1}\n",
      "-2.712530 (0.084067) with: {'n_neighbors': 4, 'p': 2}\n",
      "-2.653949 (0.016923) with: {'n_neighbors': 4, 'p': 3}\n",
      "-2.677974 (0.100344) with: {'n_neighbors': 5, 'p': 1}\n",
      "-2.747133 (0.031636) with: {'n_neighbors': 5, 'p': 2}\n",
      "-2.786333 (0.095039) with: {'n_neighbors': 5, 'p': 3}\n",
      "-2.686287 (0.128281) with: {'n_neighbors': 6, 'p': 1}\n",
      "-2.752932 (0.022740) with: {'n_neighbors': 6, 'p': 2}\n",
      "-2.799056 (0.075479) with: {'n_neighbors': 6, 'p': 3}\n",
      "-2.733083 (0.138210) with: {'n_neighbors': 7, 'p': 1}\n",
      "-2.775696 (0.042261) with: {'n_neighbors': 7, 'p': 2}\n",
      "-2.886726 (0.179794) with: {'n_neighbors': 7, 'p': 3}\n",
      "-2.720519 (0.147068) with: {'n_neighbors': 8, 'p': 1}\n",
      "-2.772307 (0.104377) with: {'n_neighbors': 8, 'p': 2}\n",
      "-2.927329 (0.182808) with: {'n_neighbors': 8, 'p': 3}\n",
      "-2.725176 (0.147335) with: {'n_neighbors': 9, 'p': 1}\n",
      "-2.789916 (0.148142) with: {'n_neighbors': 9, 'p': 2}\n",
      "-2.918371 (0.207009) with: {'n_neighbors': 9, 'p': 3}\n",
      "-2.725385 (0.138183) with: {'n_neighbors': 10, 'p': 1}\n",
      "-2.784205 (0.136099) with: {'n_neighbors': 10, 'p': 2}\n",
      "-2.963371 (0.199240) with: {'n_neighbors': 10, 'p': 3}\n",
      "-2.746514 (0.105831) with: {'n_neighbors': 11, 'p': 1}\n",
      "-2.815887 (0.155235) with: {'n_neighbors': 11, 'p': 2}\n",
      "-2.997750 (0.181106) with: {'n_neighbors': 11, 'p': 3}\n",
      "-2.773051 (0.134598) with: {'n_neighbors': 12, 'p': 1}\n",
      "-2.814896 (0.198959) with: {'n_neighbors': 12, 'p': 2}\n",
      "-2.987057 (0.194127) with: {'n_neighbors': 12, 'p': 3}\n",
      "-2.795219 (0.176853) with: {'n_neighbors': 13, 'p': 1}\n",
      "-2.880049 (0.207530) with: {'n_neighbors': 13, 'p': 2}\n",
      "-2.979303 (0.208449) with: {'n_neighbors': 13, 'p': 3}\n",
      "-2.850055 (0.164946) with: {'n_neighbors': 14, 'p': 1}\n",
      "-2.902915 (0.215415) with: {'n_neighbors': 14, 'p': 2}\n",
      "-3.009456 (0.190271) with: {'n_neighbors': 14, 'p': 3}\n",
      "-2.862370 (0.157823) with: {'n_neighbors': 15, 'p': 1}\n",
      "-2.918419 (0.217709) with: {'n_neighbors': 15, 'p': 2}\n",
      "-3.000574 (0.178595) with: {'n_neighbors': 15, 'p': 3}\n",
      "-2.869012 (0.164020) with: {'n_neighbors': 16, 'p': 1}\n",
      "-2.964729 (0.224946) with: {'n_neighbors': 16, 'p': 2}\n",
      "-3.027271 (0.214628) with: {'n_neighbors': 16, 'p': 3}\n",
      "-2.921307 (0.165011) with: {'n_neighbors': 17, 'p': 1}\n",
      "-2.956874 (0.235293) with: {'n_neighbors': 17, 'p': 2}\n",
      "-3.059220 (0.230955) with: {'n_neighbors': 17, 'p': 3}\n",
      "-2.914571 (0.170747) with: {'n_neighbors': 18, 'p': 1}\n",
      "-2.982342 (0.237985) with: {'n_neighbors': 18, 'p': 2}\n",
      "-3.068576 (0.245910) with: {'n_neighbors': 18, 'p': 3}\n",
      "-2.946576 (0.188590) with: {'n_neighbors': 19, 'p': 1}\n",
      "-2.994769 (0.224981) with: {'n_neighbors': 19, 'p': 2}\n",
      "-3.085697 (0.227785) with: {'n_neighbors': 19, 'p': 3}\n"
     ]
    },
    {
     "data": {
      "text/plain": [
       "-2.6034013605442174"
      ]
     },
     "execution_count": 6,
     "metadata": {},
     "output_type": "execute_result"
    }
   ],
   "source": [
    "#summarize the results of your GRIDSEARCH\n",
    "print('***GRIDSEARCH RESULTS***')\n",
    "print(\"Best score: %f using %s\" % (gs.best_score_, gs.best_params_))\n",
    "means = gs.cv_results_['mean_test_score']\n",
    "stds = gs.cv_results_['std_test_score']\n",
    "params = gs.cv_results_['params']\n",
    "for mean, stdev, param in zip(means, stds, params):\n",
    "    print(\"%f (%f) with: %r\" % (mean, stdev, param))\n",
    "\n",
    "gs.score(X_test, y_test)"
   ]
  },
  {
   "cell_type": "code",
   "execution_count": 7,
   "metadata": {},
   "outputs": [
    {
     "data": {
      "image/png": "[encoded data removed]",
      "text/plain": [
       "<Figure size 432x288 with 1 Axes>"
      ]
     },
     "metadata": {
      "needs_background": "light"
     },
     "output_type": "display_data"
    }
   ],
   "source": [
    "%matplotlib inline\n",
    "\n",
    "import matplotlib.pyplot as plt\n",
    "\n",
    "plt.plot (means, color='blue', alpha=1.00)\n",
    "plt.show()"
   ]
  },
  {
   "cell_type": "code",
   "execution_count": 8,
   "metadata": {},
   "outputs": [
    {
     "name": "stdout",
     "output_type": "stream",
     "text": [
      "MAE train:  1.7703595724003889\n",
      "MSE train:  6.5085228377065105\n",
      "RMSE train:  2.551180675237744\n",
      "r2:  0.9488719991432086\n",
      "MAE test:  2.6034013605442174\n",
      "MSE test:  11.656787603930459\n",
      "RMSE test:  3.4142038023425694\n",
      "r2:  0.8840013387732609\n"
     ]
    }
   ],
   "source": [
    "from sklearn import metrics\n",
    "\n",
    "print(\"MAE train: \", metrics.mean_absolute_error(y_train, gs.predict(X_train))) \n",
    "print(\"MSE train: \",metrics.mean_squared_error(y_train, gs.predict(X_train)))\n",
    "print(\"RMSE train: \",np.sqrt(metrics.mean_squared_error(y_train, gs.predict(X_train))))\n",
    "print(\"r2: \",np.sqrt(metrics.r2_score(y_train, gs.predict(X_train))))\n",
    "\n",
    "print(\"MAE test: \", metrics.mean_absolute_error(y_test, gs.predict(X_test))) \n",
    "print(\"MSE test: \",metrics.mean_squared_error(y_test, gs.predict(X_test)))\n",
    "print(\"RMSE test: \",np.sqrt(metrics.mean_squared_error(y_test, gs.predict(X_test))))\n",
    "print(\"r2: \",np.sqrt(metrics.r2_score(y_test, gs.predict(X_test))))"
   ]
  },
  {
   "cell_type": "code",
   "execution_count": 9,
   "metadata": {},
   "outputs": [
    {
     "data": {
      "image/png": "[encoded data removed]",
      "text/plain": [
       "<Figure size 432x288 with 1 Axes>"
      ]
     },
     "metadata": {
      "needs_background": "light"
     },
     "output_type": "display_data"
    }
   ],
   "source": [
    "%matplotlib inline\n",
    "import matplotlib.pyplot as plt\n",
    "plt.scatter(gs.predict(X_train),gs.predict(X_train)-y_train, c=\"b\", label=\"training data\")\n",
    "plt.scatter(gs.predict(X_test),gs.predict(X_test)-y_test, c=\"g\", label=\"hold out data\")\n",
    "plt.xlabel(\"Predicted Values\")\n",
    "plt.ylabel(\"Residuals\")\n",
    "plt.legend(loc=\"upper left\")\n",
    "plt.hlines(y=0, xmin=-10, xmax=50, color=\"r\")\n",
    "plt.xlim([-10,50])\n",
    "plt.show()"
   ]
  },
  {
   "cell_type": "code",
   "execution_count": null,
   "metadata": {},
   "outputs": [],
   "source": []
  },
  {
   "cell_type": "code",
   "execution_count": null,
   "metadata": {},
   "outputs": [],
   "source": []
  }
 ],
 "metadata": {
  "kernelspec": {
   "display_name": "Python 3",
   "language": "python",
   "name": "python3"
  },
  "language_info": {
   "codemirror_mode": {
    "name": "ipython",
    "version": 3
   },
   "file_extension": ".py",
   "mimetype": "text/x-python",
   "name": "python",
   "nbconvert_exporter": "python",
   "pygments_lexer": "ipython3",
   "version": "3.9.7"
  }
 },
 "nbformat": 4,
 "nbformat_minor": 2
}
