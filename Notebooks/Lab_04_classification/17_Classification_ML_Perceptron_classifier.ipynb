{
 "cells": [
  {
   "cell_type": "markdown",
   "metadata": {},
   "source": [
    "# Classification: Multi-layer Perceptron Classifier"
   ]
  },
  {
   "cell_type": "code",
   "execution_count": 1,
   "metadata": {},
   "outputs": [],
   "source": [
    "#IMPORT DATA\n",
    "import pandas as pd\n",
    "data = pd.read_csv('diabetes.csv')"
   ]
  },
  {
   "cell_type": "code",
   "execution_count": 2,
   "metadata": {},
   "outputs": [
    {
     "data": {
      "text/html": [
       "<div>\n",
       "<style scoped>\n",
       "    .dataframe tbody tr th:only-of-type {\n",
       "        vertical-align: middle;\n",
       "    }\n",
       "\n",
       "    .dataframe tbody tr th {\n",
       "        vertical-align: top;\n",
       "    }\n",
       "\n",
       "    .dataframe thead th {\n",
       "        text-align: right;\n",
       "    }\n",
       "</style>\n",
       "<table border=\"1\" class=\"dataframe\">\n",
       "  <thead>\n",
       "    <tr style=\"text-align: right;\">\n",
       "      <th></th>\n",
       "      <th>timespreg</th>\n",
       "      <th>gluctol</th>\n",
       "      <th>diaspb</th>\n",
       "      <th>triceps</th>\n",
       "      <th>insulin</th>\n",
       "      <th>massindex</th>\n",
       "      <th>pedigree</th>\n",
       "      <th>age</th>\n",
       "      <th>target</th>\n",
       "    </tr>\n",
       "  </thead>\n",
       "  <tbody>\n",
       "    <tr>\n",
       "      <th>0</th>\n",
       "      <td>6</td>\n",
       "      <td>148</td>\n",
       "      <td>72</td>\n",
       "      <td>35</td>\n",
       "      <td>0</td>\n",
       "      <td>33.6</td>\n",
       "      <td>0.627</td>\n",
       "      <td>50</td>\n",
       "      <td>1</td>\n",
       "    </tr>\n",
       "    <tr>\n",
       "      <th>1</th>\n",
       "      <td>1</td>\n",
       "      <td>85</td>\n",
       "      <td>66</td>\n",
       "      <td>29</td>\n",
       "      <td>0</td>\n",
       "      <td>26.6</td>\n",
       "      <td>0.351</td>\n",
       "      <td>31</td>\n",
       "      <td>0</td>\n",
       "    </tr>\n",
       "    <tr>\n",
       "      <th>2</th>\n",
       "      <td>8</td>\n",
       "      <td>183</td>\n",
       "      <td>64</td>\n",
       "      <td>0</td>\n",
       "      <td>0</td>\n",
       "      <td>23.3</td>\n",
       "      <td>0.672</td>\n",
       "      <td>32</td>\n",
       "      <td>1</td>\n",
       "    </tr>\n",
       "    <tr>\n",
       "      <th>3</th>\n",
       "      <td>1</td>\n",
       "      <td>89</td>\n",
       "      <td>66</td>\n",
       "      <td>23</td>\n",
       "      <td>94</td>\n",
       "      <td>28.1</td>\n",
       "      <td>0.167</td>\n",
       "      <td>21</td>\n",
       "      <td>0</td>\n",
       "    </tr>\n",
       "    <tr>\n",
       "      <th>4</th>\n",
       "      <td>0</td>\n",
       "      <td>137</td>\n",
       "      <td>40</td>\n",
       "      <td>35</td>\n",
       "      <td>168</td>\n",
       "      <td>43.1</td>\n",
       "      <td>2.288</td>\n",
       "      <td>33</td>\n",
       "      <td>1</td>\n",
       "    </tr>\n",
       "  </tbody>\n",
       "</table>\n",
       "</div>"
      ],
      "text/plain": [
       "   timespreg  gluctol  diaspb  triceps  insulin  massindex  pedigree  age  \\\n",
       "0          6      148      72       35        0       33.6     0.627   50   \n",
       "1          1       85      66       29        0       26.6     0.351   31   \n",
       "2          8      183      64        0        0       23.3     0.672   32   \n",
       "3          1       89      66       23       94       28.1     0.167   21   \n",
       "4          0      137      40       35      168       43.1     2.288   33   \n",
       "\n",
       "   target  \n",
       "0       1  \n",
       "1       0  \n",
       "2       1  \n",
       "3       0  \n",
       "4       1  "
      ]
     },
     "execution_count": 2,
     "metadata": {},
     "output_type": "execute_result"
    }
   ],
   "source": [
    "data.head()"
   ]
  },
  {
   "cell_type": "code",
   "execution_count": 3,
   "metadata": {},
   "outputs": [
    {
     "name": "stdout",
     "output_type": "stream",
     "text": [
      "target\n",
      "0    500\n",
      "1    268\n",
      "dtype: int64\n"
     ]
    },
    {
     "data": {
      "image/png": "[encoded data removed]",
      "text/plain": [
       "<Figure size 432x288 with 1 Axes>"
      ]
     },
     "metadata": {},
     "output_type": "display_data"
    }
   ],
   "source": [
    "#Print class freq. through pandas \n",
    "print(data.groupby('target').size())\n",
    "\n",
    "#some imports to plot \n",
    "import matplotlib.pyplot as plt\n",
    "import seaborn as sns\n",
    "%matplotlib inline\n",
    "plt.style.use('ggplot')\n",
    "\n",
    "#Visualize Class Counts\n",
    "sns.countplot(y=data.target ,data=data)\n",
    "plt.xlabel(\"count of each class\")\n",
    "plt.ylabel(\"classes\")\n",
    "plt.show()"
   ]
  },
  {
   "cell_type": "code",
   "execution_count": 4,
   "metadata": {},
   "outputs": [
    {
     "name": "stdout",
     "output_type": "stream",
     "text": [
      "<class 'pandas.core.frame.DataFrame'>\n",
      "RangeIndex: 768 entries, 0 to 767\n",
      "Data columns (total 9 columns):\n",
      " #   Column     Non-Null Count  Dtype  \n",
      "---  ------     --------------  -----  \n",
      " 0   timespreg  768 non-null    int64  \n",
      " 1   gluctol    768 non-null    int64  \n",
      " 2   diaspb     768 non-null    int64  \n",
      " 3   triceps    768 non-null    int64  \n",
      " 4   insulin    768 non-null    int64  \n",
      " 5   massindex  768 non-null    float64\n",
      " 6   pedigree   768 non-null    float64\n",
      " 7   age        768 non-null    int64  \n",
      " 8   target     768 non-null    int64  \n",
      "dtypes: float64(2), int64(7)\n",
      "memory usage: 54.1 KB\n"
     ]
    }
   ],
   "source": [
    "#gives information about the data types,columns, null value counts, memory usage etc\n",
    "data.info(verbose=True)"
   ]
  },
  {
   "cell_type": "code",
   "execution_count": 5,
   "metadata": {},
   "outputs": [
    {
     "data": {
      "text/html": [
       "<div>\n",
       "<style scoped>\n",
       "    .dataframe tbody tr th:only-of-type {\n",
       "        vertical-align: middle;\n",
       "    }\n",
       "\n",
       "    .dataframe tbody tr th {\n",
       "        vertical-align: top;\n",
       "    }\n",
       "\n",
       "    .dataframe thead th {\n",
       "        text-align: right;\n",
       "    }\n",
       "</style>\n",
       "<table border=\"1\" class=\"dataframe\">\n",
       "  <thead>\n",
       "    <tr style=\"text-align: right;\">\n",
       "      <th></th>\n",
       "      <th>timespreg</th>\n",
       "      <th>gluctol</th>\n",
       "      <th>diaspb</th>\n",
       "      <th>triceps</th>\n",
       "      <th>insulin</th>\n",
       "      <th>massindex</th>\n",
       "      <th>pedigree</th>\n",
       "      <th>age</th>\n",
       "      <th>target</th>\n",
       "    </tr>\n",
       "  </thead>\n",
       "  <tbody>\n",
       "    <tr>\n",
       "      <th>count</th>\n",
       "      <td>768.000000</td>\n",
       "      <td>768.000000</td>\n",
       "      <td>768.000000</td>\n",
       "      <td>768.000000</td>\n",
       "      <td>768.000000</td>\n",
       "      <td>768.000000</td>\n",
       "      <td>768.000000</td>\n",
       "      <td>768.000000</td>\n",
       "      <td>768.000000</td>\n",
       "    </tr>\n",
       "    <tr>\n",
       "      <th>mean</th>\n",
       "      <td>3.845052</td>\n",
       "      <td>120.894531</td>\n",
       "      <td>69.105469</td>\n",
       "      <td>20.536458</td>\n",
       "      <td>79.799479</td>\n",
       "      <td>31.992578</td>\n",
       "      <td>0.471876</td>\n",
       "      <td>33.240885</td>\n",
       "      <td>0.348958</td>\n",
       "    </tr>\n",
       "    <tr>\n",
       "      <th>std</th>\n",
       "      <td>3.369578</td>\n",
       "      <td>31.972618</td>\n",
       "      <td>19.355807</td>\n",
       "      <td>15.952218</td>\n",
       "      <td>115.244002</td>\n",
       "      <td>7.884160</td>\n",
       "      <td>0.331329</td>\n",
       "      <td>11.760232</td>\n",
       "      <td>0.476951</td>\n",
       "    </tr>\n",
       "    <tr>\n",
       "      <th>min</th>\n",
       "      <td>0.000000</td>\n",
       "      <td>0.000000</td>\n",
       "      <td>0.000000</td>\n",
       "      <td>0.000000</td>\n",
       "      <td>0.000000</td>\n",
       "      <td>0.000000</td>\n",
       "      <td>0.078000</td>\n",
       "      <td>21.000000</td>\n",
       "      <td>0.000000</td>\n",
       "    </tr>\n",
       "    <tr>\n",
       "      <th>25%</th>\n",
       "      <td>1.000000</td>\n",
       "      <td>99.000000</td>\n",
       "      <td>62.000000</td>\n",
       "      <td>0.000000</td>\n",
       "      <td>0.000000</td>\n",
       "      <td>27.300000</td>\n",
       "      <td>0.243750</td>\n",
       "      <td>24.000000</td>\n",
       "      <td>0.000000</td>\n",
       "    </tr>\n",
       "    <tr>\n",
       "      <th>50%</th>\n",
       "      <td>3.000000</td>\n",
       "      <td>117.000000</td>\n",
       "      <td>72.000000</td>\n",
       "      <td>23.000000</td>\n",
       "      <td>30.500000</td>\n",
       "      <td>32.000000</td>\n",
       "      <td>0.372500</td>\n",
       "      <td>29.000000</td>\n",
       "      <td>0.000000</td>\n",
       "    </tr>\n",
       "    <tr>\n",
       "      <th>75%</th>\n",
       "      <td>6.000000</td>\n",
       "      <td>140.250000</td>\n",
       "      <td>80.000000</td>\n",
       "      <td>32.000000</td>\n",
       "      <td>127.250000</td>\n",
       "      <td>36.600000</td>\n",
       "      <td>0.626250</td>\n",
       "      <td>41.000000</td>\n",
       "      <td>1.000000</td>\n",
       "    </tr>\n",
       "    <tr>\n",
       "      <th>max</th>\n",
       "      <td>17.000000</td>\n",
       "      <td>199.000000</td>\n",
       "      <td>122.000000</td>\n",
       "      <td>99.000000</td>\n",
       "      <td>846.000000</td>\n",
       "      <td>67.100000</td>\n",
       "      <td>2.420000</td>\n",
       "      <td>81.000000</td>\n",
       "      <td>1.000000</td>\n",
       "    </tr>\n",
       "  </tbody>\n",
       "</table>\n",
       "</div>"
      ],
      "text/plain": [
       "        timespreg     gluctol      diaspb     triceps     insulin   massindex  \\\n",
       "count  768.000000  768.000000  768.000000  768.000000  768.000000  768.000000   \n",
       "mean     3.845052  120.894531   69.105469   20.536458   79.799479   31.992578   \n",
       "std      3.369578   31.972618   19.355807   15.952218  115.244002    7.884160   \n",
       "min      0.000000    0.000000    0.000000    0.000000    0.000000    0.000000   \n",
       "25%      1.000000   99.000000   62.000000    0.000000    0.000000   27.300000   \n",
       "50%      3.000000  117.000000   72.000000   23.000000   30.500000   32.000000   \n",
       "75%      6.000000  140.250000   80.000000   32.000000  127.250000   36.600000   \n",
       "max     17.000000  199.000000  122.000000   99.000000  846.000000   67.100000   \n",
       "\n",
       "         pedigree         age      target  \n",
       "count  768.000000  768.000000  768.000000  \n",
       "mean     0.471876   33.240885    0.348958  \n",
       "std      0.331329   11.760232    0.476951  \n",
       "min      0.078000   21.000000    0.000000  \n",
       "25%      0.243750   24.000000    0.000000  \n",
       "50%      0.372500   29.000000    0.000000  \n",
       "75%      0.626250   41.000000    1.000000  \n",
       "max      2.420000   81.000000    1.000000  "
      ]
     },
     "execution_count": 5,
     "metadata": {},
     "output_type": "execute_result"
    }
   ],
   "source": [
    "#basic statistic details about the data\n",
    "data.describe(include=\"all\")"
   ]
  },
  {
   "cell_type": "code",
   "execution_count": 6,
   "metadata": {},
   "outputs": [],
   "source": [
    "#Separate X and y (explanatory variables and target variable)\n",
    "X = data.iloc[:,0:-1]\n",
    "column_names = list(X) \n",
    "y = data.iloc[:,-1] \n",
    "\n",
    "#X.head()\n",
    "#y.head()"
   ]
  },
  {
   "cell_type": "code",
   "execution_count": 7,
   "metadata": {},
   "outputs": [
    {
     "name": "stdout",
     "output_type": "stream",
     "text": [
      "(537, 8)\n"
     ]
    }
   ],
   "source": [
    "from sklearn.model_selection import train_test_split\n",
    "\n",
    "#SPLIT DATA INTO TRAIN AND TEST SET\n",
    "X_train, X_test, y_train, y_test = train_test_split(X, y, \n",
    "                                                    test_size =0.30, #by default is 75%-25%\n",
    "                                                    #shuffle is set True by default,\n",
    "                                                    stratify=y,\n",
    "                                                    random_state= 123) #fix random seed for replicability\n",
    "\n",
    "print(X_train.shape)"
   ]
  },
  {
   "cell_type": "markdown",
   "metadata": {},
   "source": [
    "## Multi-layer Perceptron classifier\n",
    "![MLPC](mlp.png)\n"
   ]
  },
  {
   "cell_type": "code",
   "execution_count": 20,
   "metadata": {},
   "outputs": [
    {
     "name": "stdout",
     "output_type": "stream",
     "text": [
      "Iteration 1, loss = 8.37126810\n",
      "Iteration 2, loss = 1.81996600\n",
      "Iteration 3, loss = 0.78293699\n",
      "Iteration 4, loss = 0.76463499\n",
      "Iteration 5, loss = 0.76280303\n",
      "Iteration 6, loss = 0.76100809\n",
      "Iteration 7, loss = 0.75930628\n",
      "Iteration 8, loss = 0.75756439\n",
      "Iteration 9, loss = 0.75584582\n",
      "Iteration 10, loss = 0.75415117\n",
      "Iteration 11, loss = 0.75258047\n",
      "Iteration 12, loss = 0.75100019\n",
      "Iteration 13, loss = 0.74945406\n",
      "Iteration 14, loss = 0.74785291\n",
      "Iteration 15, loss = 0.74633451\n",
      "Training loss did not improve more than tol=0.010000 for 10 consecutive epochs. Stopping.\n"
     ]
    },
    {
     "data": {
      "text/plain": [
       "array([1, 1, 1, 1, 1, 1, 1, 1, 1, 1, 1, 1, 1, 1, 1, 1, 1, 1, 1, 1, 1, 1,\n",
       "       1, 1, 1, 1, 1, 1, 1, 1, 1, 1, 1, 1, 1, 1, 1, 1, 1, 1, 1, 1, 1, 1,\n",
       "       1, 1, 1, 1, 1, 1, 1, 1, 1, 1, 1, 1, 1, 1, 1, 1, 1, 1, 1, 1, 1, 1,\n",
       "       1, 1, 1, 1, 1, 1, 1, 1, 1, 1, 1, 1, 1, 1, 1, 1, 1, 1, 1, 1, 1, 1,\n",
       "       1, 1, 1, 1, 1, 1, 1, 1, 1, 1, 1, 1, 1, 1, 1, 1, 1, 1, 1, 1, 1, 1,\n",
       "       1, 1, 1, 1, 1, 1, 1, 1, 1, 1, 1, 1, 1, 1, 1, 1, 1, 1, 1, 1, 1, 1,\n",
       "       1, 1, 1, 1, 1, 1, 1, 1, 1, 1, 1, 1, 1, 1, 1, 1, 1, 1, 1, 1, 1, 1,\n",
       "       1, 1, 1, 1, 1, 1, 1, 1, 1, 1, 1, 1, 1, 1, 1, 1, 1, 1, 1, 1, 1, 1,\n",
       "       1, 1, 1, 1, 1, 1, 1, 1, 1, 1, 1, 1, 1, 1, 1, 1, 1, 1, 1, 1, 1, 1,\n",
       "       1, 1, 1, 1, 1, 1, 1, 1, 1, 1, 1, 1, 1, 1, 1, 1, 1, 1, 1, 1, 1, 1,\n",
       "       1, 1, 1, 1, 1, 1, 1, 1, 1, 1, 1])"
      ]
     },
     "execution_count": 20,
     "metadata": {},
     "output_type": "execute_result"
    }
   ],
   "source": [
    "'''Multi-layer Perceptron classifier'''\n",
    "from sklearn.neural_network import MLPClassifier\n",
    "\n",
    "model=MLPClassifier(hidden_layer_sizes=(5,3,2),\n",
    "              activation='relu', alpha=0.001, batch_size='auto',              \n",
    "              learning_rate='constant',\n",
    "              max_iter=200, solver='sgd', tol=0.01,\n",
    "              verbose=True)\n",
    "\n",
    "# hidden_layer_sizes :  The ith element represents the number of neurons in the ith hidden layer, default (100,) . \n",
    "# activation : {‘identity’, ‘logistic’, ‘tanh’, ‘relu’}, default ‘relu’\n",
    "    #Activation function for the hidden layer.\n",
    "    #        ‘identity’, no-op activation, useful to implement linear bottleneck, returns f(x) = x\n",
    "    #        ‘logistic’, the logistic sigmoid function, returns f(x) = 1 / (1 + exp(-x)).\n",
    "    #        ‘tanh’, the hyperbolic tan function, returns f(x) = tanh(x).\n",
    "    #        ‘relu’, the rectified linear unit function, returns f(x) = max(0, x)\n",
    "# solver : {‘lbfgs’, ‘sgd’, ‘adam’}, default ‘adam’\n",
    "    #      ‘lbfgs’ is an optimizer in the family of quasi-Newton methods.\n",
    "    #        ‘sgd’ refers to stochastic gradient descent.\n",
    "    #        ‘adam’ refers to a stochastic gradient-based optimizer proposed by Kingma, Diederik, and Jimmy Ba\n",
    "# alpha : float, optional, default 0.0001\n",
    "    #L2 penalty (regularization term) parameter.\n",
    "# batch_size :Size of minibatches for stochastic optimizers. When set to “auto”, batch_size=min(200, n_samples)\n",
    "# learning_rate : {‘constant’, ‘invscaling’, ‘adaptive’}, default ‘constant’\n",
    "    #    ‘constant’ is a constant learning rate given by ‘learning_rate_init’.\n",
    "    #    ‘invscaling’ gradually decreases the learning rate at each time step ‘t’ using an inverse scaling exponent of ‘power_t’. effective_learning_rate = learning_rate_init / pow(t, power_t)\n",
    "    #    ‘adaptive’ keeps the learning rate constant to ‘learning_rate_init’ as long as training loss keeps decreasing. Each time two consecutive epochs fail to decrease training loss by at least tol, or fail to increase validation score by at least tol if ‘early_stopping’ is on, the current learning rate is divided by 5.\n",
    "# learning_rate_init : double, optional, default 0.001\n",
    "# max_iter : Maximum number of iterations.\n",
    "# tol :Tolerance for the optimization.\n",
    "# verbose : \n",
    "\n",
    "# NOTE: Natively supports multi-class. Which of the other classification algorothms seen so far does too?\n",
    "\n",
    "model.fit(X_train, y_train)\n",
    "model.predict(X_test)"
   ]
  },
  {
   "cell_type": "code",
   "execution_count": 21,
   "metadata": {},
   "outputs": [],
   "source": [
    "'''Multi-layer Perceptron classifier'''\n",
    "from sklearn.neural_network import MLPClassifier\n",
    "\n",
    "classifier = MLPClassifier()\n",
    "parameters = {\"hidden_layer_sizes\":[(5,3,2),(5,3)],  \"max_iter\": [500000], \"alpha\": [0.1,1, 10]}\n",
    "#hidden_layer_sizes : The ith element represents the number of neurons in the ith hidden layer."
   ]
  },
  {
   "cell_type": "code",
   "execution_count": 22,
   "metadata": {},
   "outputs": [],
   "source": [
    "#DEFINE YOUR GRIDSEARCH \n",
    "'''\n",
    "GS perfoms an exhaustive search over specified parameter values for an estimator.\n",
    "GS uses a Stratified K-Folds cross-validator\n",
    "(The folds are made by preserving the percentage of samples for each class.)\n",
    "If refit=True the model is retrained on the whole training set with the best found params\n",
    "'''\n",
    "from sklearn.model_selection import GridSearchCV\n",
    "gs = GridSearchCV(classifier, parameters, cv=3, scoring = 'f1', verbose=50, n_jobs=-1, refit=True)"
   ]
  },
  {
   "cell_type": "code",
   "execution_count": 23,
   "metadata": {},
   "outputs": [
    {
     "name": "stdout",
     "output_type": "stream",
     "text": [
      "Fitting 3 folds for each of 6 candidates, totalling 18 fits\n"
     ]
    }
   ],
   "source": [
    "#TRAIN YOUR CLASSIFIER\n",
    "gs = gs.fit(X_train, y_train)"
   ]
  },
  {
   "cell_type": "code",
   "execution_count": 24,
   "metadata": {},
   "outputs": [
    {
     "name": "stdout",
     "output_type": "stream",
     "text": [
      "***GRIDSEARCH RESULTS***\n",
      "Best score: 0.441194 using {'alpha': 10, 'hidden_layer_sizes': (5, 3), 'max_iter': 500000}\n",
      "0.000000 (0.000000) with: {'alpha': 0.1, 'hidden_layer_sizes': (5, 3, 2), 'max_iter': 500000}\n",
      "0.208254 (0.179502) with: {'alpha': 0.1, 'hidden_layer_sizes': (5, 3), 'max_iter': 500000}\n",
      "0.302120 (0.240807) with: {'alpha': 1, 'hidden_layer_sizes': (5, 3, 2), 'max_iter': 500000}\n",
      "0.068494 (0.013060) with: {'alpha': 1, 'hidden_layer_sizes': (5, 3), 'max_iter': 500000}\n",
      "0.278788 (0.265701) with: {'alpha': 10, 'hidden_layer_sizes': (5, 3, 2), 'max_iter': 500000}\n",
      "0.441194 (0.167836) with: {'alpha': 10, 'hidden_layer_sizes': (5, 3), 'max_iter': 500000}\n"
     ]
    }
   ],
   "source": [
    "#summarize the results of your GRIDSEARCH\n",
    "print('***GRIDSEARCH RESULTS***')\n",
    "\n",
    "print(\"Best score: %f using %s\" % (gs.best_score_, gs.best_params_))\n",
    "means = gs.cv_results_['mean_test_score']\n",
    "stds = gs.cv_results_['std_test_score']\n",
    "params = gs.cv_results_['params']\n",
    "\n",
    "for mean, stdev, param in zip(means, stds, params):\n",
    "    print(\"%f (%f) with: %r\" % (mean, stdev, param))"
   ]
  },
  {
   "cell_type": "code",
   "execution_count": 25,
   "metadata": {},
   "outputs": [],
   "source": [
    "#TEST ON YOUR TEST SET \n",
    "best_model = gs.best_estimator_\n",
    "y_pred = best_model.predict(X_test)\n",
    "\n",
    "y_pred_train = best_model.predict(X_train)"
   ]
  },
  {
   "cell_type": "code",
   "execution_count": 26,
   "metadata": {},
   "outputs": [
    {
     "data": {
      "text/plain": [
       "array([0, 0, 0, 0, 1, 0, 0, 0, 0, 0, 0, 0, 0, 0, 1, 0, 0, 0, 0, 0, 1, 0,\n",
       "       1, 0, 0, 1, 0, 0, 0, 1, 0, 1, 0, 0, 0, 0, 0, 1, 0, 1, 0, 0, 0, 0,\n",
       "       0, 0, 0, 0, 0, 0, 0, 0, 0, 0, 0, 1, 0, 0, 0, 0, 0, 0, 0, 0, 0, 1,\n",
       "       0, 0, 1, 1, 0, 0, 0, 0, 1, 0, 0, 1, 0, 0, 1, 0, 0, 0, 1, 0, 0, 0,\n",
       "       0, 1, 0, 0, 0, 1, 0, 0, 0, 1, 0, 0, 0, 1, 1, 0, 1, 0, 0, 0, 1, 0,\n",
       "       1, 0, 0, 0, 1, 0, 0, 0, 0, 0, 1, 1, 0, 0, 0, 0, 0, 0, 0, 0, 0, 0,\n",
       "       0, 1, 0, 0, 0, 1, 0, 0, 0, 0, 1, 1, 0, 1, 0, 0, 1, 0, 0, 0, 0, 0,\n",
       "       1, 0, 0, 1, 0, 0, 0, 0, 0, 1, 1, 0, 0, 0, 1, 0, 1, 1, 0, 1, 0, 0,\n",
       "       0, 1, 0, 1, 1, 0, 0, 0, 0, 0, 1, 0, 0, 0, 0, 0, 0, 0, 0, 0, 0, 1,\n",
       "       0, 0, 0, 1, 0, 0, 0, 0, 1, 0, 0, 0, 1, 0, 0, 0, 1, 1, 0, 0, 0, 0,\n",
       "       0, 0, 1, 0, 0, 0, 0, 1, 0, 0, 0])"
      ]
     },
     "execution_count": 26,
     "metadata": {},
     "output_type": "execute_result"
    }
   ],
   "source": [
    "y_pred"
   ]
  },
  {
   "cell_type": "code",
   "execution_count": 27,
   "metadata": {},
   "outputs": [
    {
     "name": "stdout",
     "output_type": "stream",
     "text": [
      "***RESULTS ON TRAIN SET***\n",
      "f1_score:  0.625\n",
      "--\n",
      "***RESULTS ON TEST SET***\n",
      "f1_score:  0.5777777777777777\n"
     ]
    }
   ],
   "source": [
    "#EVALUATE YOUR PREDICTION (on the y_test that you left aside)\n",
    "from sklearn import metrics\n",
    "\n",
    "print('***RESULTS ON TRAIN SET***')\n",
    "print(\"f1_score: \", metrics.f1_score(y_train, y_pred_train))\n",
    "print(\"--\")\n",
    "print('***RESULTS ON TEST SET***')\n",
    "print(\"f1_score: \", metrics.f1_score(y_test, y_pred))"
   ]
  },
  {
   "cell_type": "code",
   "execution_count": 28,
   "metadata": {},
   "outputs": [
    {
     "name": "stdout",
     "output_type": "stream",
     "text": [
      "              precision    recall  f1-score   support\n",
      "\n",
      "           0       0.76      0.90      0.83       150\n",
      "           1       0.72      0.48      0.58        81\n",
      "\n",
      "    accuracy                           0.75       231\n",
      "   macro avg       0.74      0.69      0.70       231\n",
      "weighted avg       0.75      0.75      0.74       231\n",
      "\n"
     ]
    }
   ],
   "source": [
    "#PRINT SOME FURTHER METRICS\n",
    "from sklearn.metrics import classification_report\n",
    "print(classification_report(y_test, y_pred))"
   ]
  },
  {
   "cell_type": "code",
   "execution_count": 29,
   "metadata": {},
   "outputs": [
    {
     "name": "stdout",
     "output_type": "stream",
     "text": [
      "[[135  15]\n",
      " [ 42  39]]\n"
     ]
    }
   ],
   "source": [
    "#CONFUSION MATRIX\n",
    "from sklearn.metrics import confusion_matrix\n",
    "print(confusion_matrix(y_test, y_pred))"
   ]
  },
  {
   "cell_type": "code",
   "execution_count": 30,
   "metadata": {},
   "outputs": [
    {
     "data": {
      "image/png": "[encoded data removed]",
      "text/plain": [
       "<Figure size 432x288 with 2 Axes>"
      ]
     },
     "metadata": {},
     "output_type": "display_data"
    }
   ],
   "source": [
    "# Plot confusion matrix\n",
    "sns.heatmap(confusion_matrix(y_test, y_pred), annot=True, fmt='d', cmap=\"Blues\"); #annot=True to annotate cells fmt: format\n"
   ]
  },
  {
   "cell_type": "code",
   "execution_count": 32,
   "metadata": {},
   "outputs": [
    {
     "data": {
      "image/png": "[encoded data removed]",
      "text/plain": [
       "<Figure size 432x288 with 1 Axes>"
      ]
     },
     "metadata": {},
     "output_type": "display_data"
    },
    {
     "name": "stdout",
     "output_type": "stream",
     "text": [
      "AUC: 0.78\n",
      "[CV 2/3; 1/6] START alpha=0.1, hidden_layer_sizes=(5, 3, 2), max_iter=500000....\n",
      "[CV 2/3; 1/6] END alpha=0.1, hidden_layer_sizes=(5, 3, 2), max_iter=500000;, score=0.520 total time=   1.9s\n",
      "[CV 3/3; 3/6] START alpha=1, hidden_layer_sizes=(5, 3, 2), max_iter=500000......\n",
      "[CV 3/3; 3/6] END alpha=1, hidden_layer_sizes=(5, 3, 2), max_iter=500000;, score=0.000 total time=   1.3s\n",
      "[CV 1/3; 5/6] START alpha=10, hidden_layer_sizes=(5, 3, 2), max_iter=500000.....\n",
      "[CV 1/3; 5/6] END alpha=10, hidden_layer_sizes=(5, 3, 2), max_iter=500000;, score=0.088 total time=   1.1s\n",
      "[CV 2/3; 6/6] START alpha=10, hidden_layer_sizes=(5, 3), max_iter=500000........\n",
      "[CV 2/3; 6/6] END alpha=10, hidden_layer_sizes=(5, 3), max_iter=500000;, score=0.529 total time=   3.4s\n",
      "[CV 1/3; 2/6] START alpha=0.1, hidden_layer_sizes=(5, 3), max_iter=500000.......\n",
      "[CV 1/3; 2/6] END alpha=0.1, hidden_layer_sizes=(5, 3), max_iter=500000;, score=0.000 total time=   0.8s\n",
      "[CV 3/3; 3/6] START alpha=1, hidden_layer_sizes=(5, 3, 2), max_iter=500000......\n",
      "[CV 3/3; 3/6] END alpha=1, hidden_layer_sizes=(5, 3, 2), max_iter=500000;, score=0.317 total time=   0.8s\n",
      "[CV 3/3; 4/6] START alpha=1, hidden_layer_sizes=(5, 3), max_iter=500000.........\n",
      "[CV 3/3; 4/6] END alpha=1, hidden_layer_sizes=(5, 3), max_iter=500000;, score=0.060 total time=   1.3s\n",
      "[CV 1/3; 6/6] START alpha=10, hidden_layer_sizes=(5, 3), max_iter=500000........\n",
      "[CV 1/3; 6/6] END alpha=10, hidden_layer_sizes=(5, 3), max_iter=500000;, score=0.238 total time=   1.9s\n",
      "[CV 1/3; 1/6] START alpha=0.1, hidden_layer_sizes=(5, 3, 2), max_iter=500000....\n",
      "[CV 1/3; 1/6] END alpha=0.1, hidden_layer_sizes=(5, 3, 2), max_iter=500000;, score=0.000 total time=   0.2s\n",
      "[CV 2/3; 2/6] START alpha=0.1, hidden_layer_sizes=(5, 3), max_iter=500000.......\n",
      "[CV 2/3; 2/6] END alpha=0.1, hidden_layer_sizes=(5, 3), max_iter=500000;, score=0.533 total time=   2.3s\n",
      "[CV 1/3; 4/6] START alpha=1, hidden_layer_sizes=(5, 3), max_iter=500000.........\n",
      "[CV 1/3; 4/6] END alpha=1, hidden_layer_sizes=(5, 3), max_iter=500000;, score=0.247 total time=   0.3s\n",
      "[CV 2/3; 4/6] START alpha=1, hidden_layer_sizes=(5, 3), max_iter=500000.........\n",
      "[CV 2/3; 4/6] END alpha=1, hidden_layer_sizes=(5, 3), max_iter=500000;, score=0.380 total time=   1.1s\n",
      "[CV 1/3; 6/6] START alpha=10, hidden_layer_sizes=(5, 3), max_iter=500000........\n",
      "[CV 1/3; 6/6] END alpha=10, hidden_layer_sizes=(5, 3), max_iter=500000;, score=0.000 total time=   0.7s\n",
      "[CV 3/3; 6/6] START alpha=10, hidden_layer_sizes=(5, 3), max_iter=500000........\n",
      "[CV 3/3; 6/6] END alpha=10, hidden_layer_sizes=(5, 3), max_iter=500000;, score=0.465 total time=   2.5s\n",
      "[CV 3/3; 1/6] START alpha=0.1, hidden_layer_sizes=(5, 3, 2), max_iter=500000....\n",
      "[CV 3/3; 1/6] END alpha=0.1, hidden_layer_sizes=(5, 3, 2), max_iter=500000;, score=0.000 total time=   0.5s\n",
      "[CV 1/3; 3/6] START alpha=1, hidden_layer_sizes=(5, 3, 2), max_iter=500000......\n",
      "[CV 1/3; 3/6] END alpha=1, hidden_layer_sizes=(5, 3, 2), max_iter=500000;, score=0.000 total time=   0.2s\n",
      "[CV 2/3; 3/6] START alpha=1, hidden_layer_sizes=(5, 3, 2), max_iter=500000......\n",
      "[CV 2/3; 3/6] END alpha=1, hidden_layer_sizes=(5, 3, 2), max_iter=500000;, score=0.589 total time=   3.1s\n",
      "[CV 2/3; 6/6] START alpha=10, hidden_layer_sizes=(5, 3), max_iter=500000........\n",
      "[CV 2/3; 6/6] END alpha=10, hidden_layer_sizes=(5, 3), max_iter=500000;, score=0.649 total time=   1.5s\n",
      "[CV 3/3; 1/6] START alpha=0.1, hidden_layer_sizes=(5, 3, 2), max_iter=500000....\n",
      "[CV 3/3; 1/6] END alpha=0.1, hidden_layer_sizes=(5, 3, 2), max_iter=500000;, score=0.211 total time=   1.1s\n",
      "[CV 1/3; 3/6] START alpha=1, hidden_layer_sizes=(5, 3, 2), max_iter=500000......\n",
      "[CV 1/3; 3/6] END alpha=1, hidden_layer_sizes=(5, 3, 2), max_iter=500000;, score=0.000 total time=   1.7s\n",
      "[CV 3/3; 4/6] START alpha=1, hidden_layer_sizes=(5, 3), max_iter=500000.........\n",
      "[CV 3/3; 4/6] END alpha=1, hidden_layer_sizes=(5, 3), max_iter=500000;, score=0.225 total time=   0.5s\n",
      "[CV 3/3; 5/6] START alpha=10, hidden_layer_sizes=(5, 3, 2), max_iter=500000.....\n",
      "[CV 3/3; 5/6] END alpha=10, hidden_layer_sizes=(5, 3, 2), max_iter=500000;, score=0.466 total time=   3.1s\n",
      "[CV 2/3; 1/6] START alpha=0.1, hidden_layer_sizes=(5, 3, 2), max_iter=500000....\n",
      "[CV 2/3; 1/6] END alpha=0.1, hidden_layer_sizes=(5, 3, 2), max_iter=500000;, score=0.000 total time=   0.3s\n",
      "[CV 2/3; 2/6] START alpha=0.1, hidden_layer_sizes=(5, 3), max_iter=500000.......\n",
      "[CV 2/3; 2/6] END alpha=0.1, hidden_layer_sizes=(5, 3), max_iter=500000;, score=0.187 total time=   0.8s\n",
      "[CV 2/3; 4/6] START alpha=1, hidden_layer_sizes=(5, 3), max_iter=500000.........\n",
      "[CV 2/3; 4/6] END alpha=1, hidden_layer_sizes=(5, 3), max_iter=500000;, score=0.059 total time=   0.5s\n",
      "[CV 1/3; 5/6] START alpha=10, hidden_layer_sizes=(5, 3, 2), max_iter=500000.....\n",
      "[CV 1/3; 5/6] END alpha=10, hidden_layer_sizes=(5, 3, 2), max_iter=500000;, score=0.636 total time=   3.7s\n",
      "[CV 1/3; 2/6] START alpha=0.1, hidden_layer_sizes=(5, 3), max_iter=500000.......\n",
      "[CV 1/3; 2/6] END alpha=0.1, hidden_layer_sizes=(5, 3), max_iter=500000;, score=0.113 total time=   0.7s\n",
      "[CV 3/3; 2/6] START alpha=0.1, hidden_layer_sizes=(5, 3), max_iter=500000.......\n",
      "[CV 3/3; 2/6] END alpha=0.1, hidden_layer_sizes=(5, 3), max_iter=500000;, score=0.000 total time=   0.4s\n",
      "[CV 2/3; 3/6] START alpha=1, hidden_layer_sizes=(5, 3, 2), max_iter=500000......\n",
      "[CV 2/3; 3/6] END alpha=1, hidden_layer_sizes=(5, 3, 2), max_iter=500000;, score=0.310 total time=   2.1s\n",
      "[CV 2/3; 5/6] START alpha=10, hidden_layer_sizes=(5, 3, 2), max_iter=500000.....\n",
      "[CV 2/3; 5/6] END alpha=10, hidden_layer_sizes=(5, 3, 2), max_iter=500000;, score=0.000 total time=   2.0s\n",
      "[CV 1/3; 1/6] START alpha=0.1, hidden_layer_sizes=(5, 3, 2), max_iter=500000....\n",
      "[CV 1/3; 1/6] END alpha=0.1, hidden_layer_sizes=(5, 3, 2), max_iter=500000;, score=0.000 total time=   0.3s\n",
      "[CV 3/3; 2/6] START alpha=0.1, hidden_layer_sizes=(5, 3), max_iter=500000.......\n",
      "[CV 3/3; 2/6] END alpha=0.1, hidden_layer_sizes=(5, 3), max_iter=500000;, score=0.438 total time=   0.7s\n",
      "[CV 1/3; 4/6] START alpha=1, hidden_layer_sizes=(5, 3), max_iter=500000.........\n",
      "[CV 1/3; 4/6] END alpha=1, hidden_layer_sizes=(5, 3), max_iter=500000;, score=0.087 total time=   0.7s\n",
      "[CV 2/3; 5/6] START alpha=10, hidden_layer_sizes=(5, 3, 2), max_iter=500000.....\n",
      "[CV 2/3; 5/6] END alpha=10, hidden_layer_sizes=(5, 3, 2), max_iter=500000;, score=0.000 total time=   0.7s\n",
      "[CV 3/3; 5/6] START alpha=10, hidden_layer_sizes=(5, 3, 2), max_iter=500000.....\n",
      "[CV 3/3; 5/6] END alpha=10, hidden_layer_sizes=(5, 3, 2), max_iter=500000;, score=0.200 total time=   2.0s\n",
      "[CV 3/3; 6/6] START alpha=10, hidden_layer_sizes=(5, 3), max_iter=500000........\n",
      "[CV 3/3; 6/6] END alpha=10, hidden_layer_sizes=(5, 3), max_iter=500000;, score=0.436 total time=   1.3s\n"
     ]
    }
   ],
   "source": [
    "from sklearn import metrics\n",
    "\n",
    "model=MLPClassifier(hidden_layer_sizes=(5,3), alpha=10, max_iter=500000)\n",
    "model.fit(X_train, y_train)\n",
    "\n",
    "y_pred = model.predict(X_test)\n",
    "y_pred_train = model.predict(X_train)\n",
    "\n",
    "y_probs = model.predict_proba(X_test) #predict_proba gives the probabilities for the target (0 and 1 in your case) \n",
    "\n",
    "fpr, tpr, thresholds=metrics.roc_curve(y_test,  y_probs[:,1])\n",
    "\n",
    "import matplotlib.pyplot as plt\n",
    "plt.plot(fpr, tpr, label='ROC')\n",
    "plt.plot([0, 1], [0, 1], color='darkblue', linestyle='--')\n",
    "plt.xlabel('False Positive Rate')\n",
    "plt.ylabel('True Positive Rate')\n",
    "plt.title('Receiver Operating Characteristic (ROC) Curve')\n",
    "plt.legend()\n",
    "plt.show()\n",
    "\n",
    "auc = metrics.roc_auc_score(y_test, y_probs[:,1])\n",
    "print('AUC: %.2f' % auc)"
   ]
  },
  {
   "cell_type": "code",
   "execution_count": null,
   "metadata": {},
   "outputs": [],
   "source": []
  },
  {
   "cell_type": "code",
   "execution_count": null,
   "metadata": {},
   "outputs": [],
   "source": []
  }
 ],
 "metadata": {
  "kernelspec": {
   "display_name": "Python 3",
   "language": "python",
   "name": "python3"
  },
  "language_info": {
   "codemirror_mode": {
    "name": "ipython",
    "version": 3
   },
   "file_extension": ".py",
   "mimetype": "text/x-python",
   "name": "python",
   "nbconvert_exporter": "python",
   "pygments_lexer": "ipython3",
   "version": "3.9.7"
  }
 },
 "nbformat": 4,
 "nbformat_minor": 2
}
